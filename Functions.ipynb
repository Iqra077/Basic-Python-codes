{
 "cells": [
  {
   "cell_type": "markdown",
   "id": "292d70c6",
   "metadata": {},
   "source": [
    "### Assignment-05 (Functions)\n",
    "- Change the notebook name with your name and Roll Number.\n",
    "- Try this as your own, no chatgpt (it's for your learning)\n",
    "- after completing the assignment, submit this book on google class room."
   ]
  },
  {
   "cell_type": "markdown",
   "id": "a78a8d1f",
   "metadata": {},
   "source": [
    "Write a function named add_numbers that takes two parameters and returns their sum."
   ]
  },
  {
   "cell_type": "code",
   "execution_count": 1,
   "id": "ecc43aae",
   "metadata": {},
   "outputs": [
    {
     "name": "stdout",
     "output_type": "stream",
     "text": [
      "Sum of a and b are:  10\n"
     ]
    }
   ],
   "source": [
    "def add_numbers(a,b):\n",
    "    sum = a + b\n",
    "    print(\"Sum of a and b are: \",sum)\n",
    "add_numbers(5,5)"
   ]
  },
  {
   "cell_type": "markdown",
   "id": "b8557bc1",
   "metadata": {},
   "source": [
    "Define a function calculate_area to compute the area of a rectangle given its length and width."
   ]
  },
  {
   "cell_type": "code",
   "execution_count": 51,
   "id": "5da1bce6",
   "metadata": {},
   "outputs": [
    {
     "name": "stdout",
     "output_type": "stream",
     "text": [
      "The area of the rectangle is: 23.54000m\n"
     ]
    }
   ],
   "source": [
    "def calculate_area(length, width):\n",
    "    area = length * width\n",
    "    print(f\"The area of the rectangle is: {area:.5f}m\")\n",
    "calculate_area(2.14, 11)\n"
   ]
  },
  {
   "cell_type": "markdown",
   "id": "ced07c44",
   "metadata": {},
   "source": [
    "Add a docstring to the calculate_area function explaining its purpose."
   ]
  },
  {
   "cell_type": "code",
   "execution_count": 52,
   "id": "a5a19740",
   "metadata": {},
   "outputs": [
    {
     "name": "stdout",
     "output_type": "stream",
     "text": [
      "The area of the rectangle is: 23.54000m\n"
     ]
    }
   ],
   "source": [
    "def calculate_area(length, width):\n",
    "    \"\"\"\n",
    "    Calculate the area of a rectangle.\n",
    "    Args:\n",
    "    length (float): The length of the rectangle.\n",
    "    width (float): The width of the rectangle.\n",
    "    Returns:\n",
    "    float: The area of the rectangle, calculated as length * width.\n",
    "    \"\"\"\n",
    "    area = length * width\n",
    "    print(f\"The area of the rectangle is: {area:.5f}m\")\n",
    "calculate_area(2.14, 11)\n"
   ]
  },
  {
   "cell_type": "markdown",
   "id": "eaa57b3d",
   "metadata": {},
   "source": [
    "Create a function print_greeting that takes a name as an argument and prints a personalized greeting.\n"
   ]
  },
  {
   "cell_type": "code",
   "execution_count": 10,
   "id": "134dff75",
   "metadata": {},
   "outputs": [
    {
     "name": "stdout",
     "output_type": "stream",
     "text": [
      "Hello, John! How are you?\n"
     ]
    }
   ],
   "source": [
    "def print_greeting(name):\n",
    "    print(\"Hello,\", name + \"! How are you?\")\n",
    "\n",
    "\n",
    "name = \"John\"\n",
    "print_greeting(name)\n"
   ]
  },
  {
   "cell_type": "markdown",
   "id": "a9226488",
   "metadata": {},
   "source": [
    "Write a function is_prime that checks if a given number is prime.\n"
   ]
  },
  {
   "cell_type": "code",
   "execution_count": 11,
   "id": "787f0b36",
   "metadata": {},
   "outputs": [
    {
     "name": "stdout",
     "output_type": "stream",
     "text": [
      "Is prime? True\n"
     ]
    }
   ],
   "source": [
    "def is_prime(number):\n",
    "    if number <= 1:\n",
    "        return False\n",
    "    for i in range(2, int(number ** 0.5) + 1):\n",
    "        if number % i == 0:\n",
    "            return False\n",
    "    return True\n",
    "\n",
    "num = 17\n",
    "print(\"Is prime?\", is_prime(num))\n"
   ]
  },
  {
   "cell_type": "markdown",
   "id": "9b526fa5",
   "metadata": {},
   "source": [
    "Implement a function factorial to calculate the factorial of a given number.\n"
   ]
  },
  {
   "cell_type": "code",
   "execution_count": 13,
   "id": "800a23c7",
   "metadata": {},
   "outputs": [
    {
     "name": "stdout",
     "output_type": "stream",
     "text": [
      "Factorial of 5 is:  120\n"
     ]
    }
   ],
   "source": [
    "def factorial(n):\n",
    "    if n == 0:\n",
    "        return 1\n",
    "    result = 1\n",
    "    for i in range(1, n + 1):\n",
    "        result *= i\n",
    "    return result\n",
    "\n",
    "number = 5\n",
    "print(\"Factorial of\", number, \"is: \", factorial(number))\n"
   ]
  },
  {
   "cell_type": "markdown",
   "id": "96ca84b5",
   "metadata": {},
   "source": [
    "Create a function print_pattern to print a specific pattern of stars."
   ]
  },
  {
   "cell_type": "code",
   "execution_count": 16,
   "id": "3239542e",
   "metadata": {},
   "outputs": [
    {
     "name": "stdout",
     "output_type": "stream",
     "text": [
      "*\n",
      "**\n",
      "***\n",
      "****\n",
      "*****\n"
     ]
    }
   ],
   "source": [
    "def print_pattern(rows):\n",
    "    for i in range(1, 6):\n",
    "        print(\"*\" * i)\n",
    "\n",
    "print_pattern(5)\n"
   ]
  },
  {
   "cell_type": "markdown",
   "id": "dd5ace57",
   "metadata": {},
   "source": [
    "Write a function multiply_numbers with default values for its parameters."
   ]
  },
  {
   "cell_type": "code",
   "execution_count": 18,
   "id": "9165cb2a",
   "metadata": {},
   "outputs": [
    {
     "name": "stdout",
     "output_type": "stream",
     "text": [
      "Result 1: 25\n",
      "Result 2: 25\n",
      "Result 3: 6\n"
     ]
    }
   ],
   "source": [
    "def multiply_numbers(a=5 , b=5):\n",
    "    return a * b\n",
    "\n",
    "res_1 = multiply_numbers()     \n",
    "res_2 = multiply_numbers(5)     \n",
    "res_3 = multiply_numbers(2, 3)  \n",
    "print(\"Result 1:\", res_1)\n",
    "print(\"Result 2:\", res_2)\n",
    "print(\"Result 3:\", res_3)\n"
   ]
  },
  {
   "cell_type": "markdown",
   "id": "7cd00e34",
   "metadata": {},
   "source": [
    "Define a function print_info that takes a variable number of arguments and prints them.\n"
   ]
  },
  {
   "cell_type": "code",
   "execution_count": 20,
   "id": "e8b03ed1",
   "metadata": {},
   "outputs": [
    {
     "name": "stdout",
     "output_type": "stream",
     "text": [
      "Hello\n",
      "world\n",
      "42\n",
      "[1, 2, 3]\n",
      "(1, 2, 3)\n"
     ]
    }
   ],
   "source": [
    "def print_info(*args):\n",
    "    for arg in args:\n",
    "        print(arg)\n",
    "\n",
    "print_info(\"Hello\", \"world\", 42, [1, 2, 3], (1, 2, 3))\n"
   ]
  },
  {
   "cell_type": "markdown",
   "id": "21006c9c",
   "metadata": {},
   "source": [
    "Create a function power_of_two that accepts a number and returns its square.\n"
   ]
  },
  {
   "cell_type": "code",
   "execution_count": 22,
   "id": "ee003f0d",
   "metadata": {},
   "outputs": [
    {
     "name": "stdout",
     "output_type": "stream",
     "text": [
      "Square of 5 is: 25\n"
     ]
    }
   ],
   "source": [
    "def power_of_two(number):\n",
    "    result =  number ** 2\n",
    "    return result\n",
    "\n",
    "num = 5\n",
    "result = power_of_two(num)\n",
    "print(\"Square of\", num, \"is:\", result)\n"
   ]
  },
  {
   "cell_type": "markdown",
   "id": "8aca7c5d",
   "metadata": {},
   "source": [
    "Define a variable inside a function and try to access it outside the function."
   ]
  },
  {
   "cell_type": "code",
   "execution_count": 23,
   "id": "1eecf2cb",
   "metadata": {},
   "outputs": [
    {
     "ename": "NameError",
     "evalue": "name 'variable' is not defined",
     "output_type": "error",
     "traceback": [
      "\u001b[1;31m---------------------------------------------------------------------------\u001b[0m",
      "\u001b[1;31mNameError\u001b[0m                                 Traceback (most recent call last)",
      "Cell \u001b[1;32mIn[23], line 5\u001b[0m\n\u001b[0;32m      2\u001b[0m     variable \u001b[38;5;241m=\u001b[39m \u001b[38;5;124m\"\u001b[39m\u001b[38;5;124mHello\u001b[39m\u001b[38;5;124m\"\u001b[39m\n\u001b[0;32m      4\u001b[0m my_function()\n\u001b[1;32m----> 5\u001b[0m \u001b[38;5;28mprint\u001b[39m(\u001b[43mvariable\u001b[49m)\n",
      "\u001b[1;31mNameError\u001b[0m: name 'variable' is not defined"
     ]
    }
   ],
   "source": [
    "def my_function():\n",
    "    variable = \"Hello\"\n",
    "\n",
    "my_function()\n",
    "print(variable)\n"
   ]
  },
  {
   "cell_type": "markdown",
   "id": "27ef8bea",
   "metadata": {},
   "source": [
    "Write a function that uses a variable from the enclosing scope."
   ]
  },
  {
   "cell_type": "code",
   "execution_count": 24,
   "id": "cf7f3658",
   "metadata": {},
   "outputs": [
    {
     "name": "stdout",
     "output_type": "stream",
     "text": [
      "Inside the function: Hello\n"
     ]
    }
   ],
   "source": [
    "variable = \"Hello\"\n",
    "def my_function():\n",
    "    print(\"Inside the function:\", variable)\n",
    "my_function()\n"
   ]
  },
  {
   "cell_type": "markdown",
   "id": "e4bc1865",
   "metadata": {},
   "source": [
    "Create a global variable and modify it inside a function."
   ]
  },
  {
   "cell_type": "code",
   "execution_count": 25,
   "id": "16466e1d",
   "metadata": {},
   "outputs": [
    {
     "name": "stdout",
     "output_type": "stream",
     "text": [
      "Before function call - Global variable: 10\n",
      "After function call - Global variable: 20\n"
     ]
    }
   ],
   "source": [
    "gv = 10\n",
    "def modify_global_variable():\n",
    "\n",
    "    global gv\n",
    "    gv = 20\n",
    "print(\"Before function call --> Global variable:\", gv)\n",
    "modify_global_variable()\n",
    "print(\"After function call --> Global variable:\", gv)\n"
   ]
  },
  {
   "cell_type": "markdown",
   "id": "05e33835",
   "metadata": {},
   "source": [
    "Write a lambda function to calculate the cube of a number."
   ]
  },
  {
   "cell_type": "code",
   "execution_count": 26,
   "id": "a1066910",
   "metadata": {},
   "outputs": [
    {
     "name": "stdout",
     "output_type": "stream",
     "text": [
      "Cube of 5 is: 125\n"
     ]
    }
   ],
   "source": [
    "cube = lambda x: x ** 3\n",
    "number = 5\n",
    "result = cube(number)\n",
    "print(\"Cube of\", number, \"is:\", result)\n"
   ]
  },
  {
   "cell_type": "markdown",
   "id": "835f805c",
   "metadata": {},
   "source": [
    "Use a lambda function as an argument with the map function."
   ]
  },
  {
   "cell_type": "code",
   "execution_count": 27,
   "id": "2c18968f",
   "metadata": {},
   "outputs": [
    {
     "name": "stdout",
     "output_type": "stream",
     "text": [
      "Original numbers: [1, 2, 3, 4, 5]\n",
      "Cubes of numbers: [1, 8, 27, 64, 125]\n"
     ]
    }
   ],
   "source": [
    "numbers = [1, 2, 3, 4, 5]\n",
    "cubes = map(lambda x: x ** 3, numbers)\n",
    "cubes_list = list(cubes)\n",
    "\n",
    "print(\"Original numbers:\", numbers)\n",
    "print(\"Cubes of numbers:\", cubes_list)\n"
   ]
  },
  {
   "cell_type": "markdown",
   "id": "afd4b510",
   "metadata": {},
   "source": [
    "Use a lambda function with the filter function to filter even numbers from a list."
   ]
  },
  {
   "cell_type": "code",
   "execution_count": 28,
   "id": "8b02f236",
   "metadata": {},
   "outputs": [
    {
     "name": "stdout",
     "output_type": "stream",
     "text": [
      "Original numbers: [1, 2, 3, 4, 5, 6, 7, 8, 9, 10]\n",
      "Even numbers: [2, 4, 6, 8, 10]\n"
     ]
    }
   ],
   "source": [
    "numbers = [1, 2, 3, 4, 5, 6, 7, 8, 9, 10]\n",
    "even_numbers = filter(lambda x: x % 2 == 0, numbers)\n",
    "even_numbers_list = list(even_numbers)\n",
    "\n",
    "print(\"Original numbers:\", numbers)\n",
    "print(\"Even numbers:\", even_numbers_list)\n"
   ]
  },
  {
   "cell_type": "markdown",
   "id": "3b36cb84",
   "metadata": {},
   "source": [
    "Apply a lambda function with the reduce function to find the product of a list."
   ]
  },
  {
   "cell_type": "code",
   "execution_count": 29,
   "id": "a5d035b3",
   "metadata": {},
   "outputs": [
    {
     "name": "stdout",
     "output_type": "stream",
     "text": [
      "List of numbers: [1, 2, 3, 4, 5]\n",
      "Product of numbers: 120\n"
     ]
    }
   ],
   "source": [
    "from functools import reduce\n",
    "numbers = [1, 2, 3, 4, 5]\n",
    "product = reduce(lambda x, y: x * y, numbers)\n",
    "\n",
    "print(\"List of numbers:\", numbers)\n",
    "print(\"Product of numbers:\", product)\n"
   ]
  },
  {
   "cell_type": "markdown",
   "id": "1462df0e",
   "metadata": {},
   "source": [
    "Sort a list of tuples based on the second element using a lambda function."
   ]
  },
  {
   "cell_type": "code",
   "execution_count": 30,
   "id": "74e28382",
   "metadata": {},
   "outputs": [
    {
     "name": "stdout",
     "output_type": "stream",
     "text": [
      "Original list of tuples: [(1, 5), (2, 3), (3, 10), (4, 1), (5, 7)]\n",
      "Sorted list of tuples based on the second element: [(4, 1), (2, 3), (1, 5), (5, 7), (3, 10)]\n"
     ]
    }
   ],
   "source": [
    "list_of_tuples = [(1, 5), (2, 3), (3, 10), (4, 1), (5, 7)]\n",
    "sorted_list = sorted(list_of_tuples, key=lambda x: x[1])\n",
    "\n",
    "print(\"Original list of tuples:\", list_of_tuples)\n",
    "print(\"Sorted list of tuples based on the second element:\", sorted_list)\n"
   ]
  },
  {
   "cell_type": "markdown",
   "id": "c0978a54",
   "metadata": {},
   "source": [
    "Demonstrate the use of the zip function with two lists."
   ]
  },
  {
   "cell_type": "code",
   "execution_count": 31,
   "id": "9d41c722",
   "metadata": {},
   "outputs": [
    {
     "name": "stdout",
     "output_type": "stream",
     "text": [
      "List 1: ['a', 'b', 'c']\n",
      "List 2: [1, 2, 3]\n",
      "Zipped list: [('a', 1), ('b', 2), ('c', 3)]\n"
     ]
    }
   ],
   "source": [
    "list1 = ['a', 'b', 'c']\n",
    "list2 = [1, 2, 3]\n",
    "zipped = zip(list1, list2)\n",
    "\n",
    "zipped_list = list(zipped)\n",
    "\n",
    "print(\"List 1:\", list1)\n",
    "print(\"List 2:\", list2)\n",
    "print(\"Zipped list:\", zipped_list)\n"
   ]
  },
  {
   "cell_type": "markdown",
   "id": "00d634fa",
   "metadata": {},
   "source": [
    "Implement a generator function that generates Fibonacci numbers."
   ]
  },
  {
   "cell_type": "code",
   "execution_count": 35,
   "id": "6cd6a877",
   "metadata": {},
   "outputs": [
    {
     "name": "stdout",
     "output_type": "stream",
     "text": [
      "First 10 Fibonacci numbers:\n",
      "0\n",
      "1\n",
      "1\n",
      "2\n",
      "3\n",
      "5\n",
      "8\n",
      "13\n",
      "21\n",
      "34\n"
     ]
    }
   ],
   "source": [
    "def fibonacci_generator():\n",
    "    a, b = 0, 1\n",
    "    yield a\n",
    "    yield b\n",
    "    while True:\n",
    "        a, b = b, a + b\n",
    "        yield b\n",
    "fib_gen = fibonacci_generator()\n",
    "print(\"First 10 Fibonacci numbers:\")\n",
    "for _ in range(10):\n",
    "    print(next(fib_gen))\n"
   ]
  },
  {
   "cell_type": "markdown",
   "id": "cfdbada2",
   "metadata": {},
   "source": [
    "Use a generator expression to create a sequence of squares."
   ]
  },
  {
   "cell_type": "code",
   "execution_count": 36,
   "id": "8261d6f6",
   "metadata": {},
   "outputs": [
    {
     "name": "stdout",
     "output_type": "stream",
     "text": [
      "Sequence of squares: [1, 4, 9, 16, 25, 36, 49, 64, 81, 100]\n"
     ]
    }
   ],
   "source": [
    "squares_gen = (x ** 2 for x in range(1, 11))\n",
    "squares_list = list(squares_gen)\n",
    "\n",
    "print(\"Sequence of squares:\", squares_list)\n"
   ]
  },
  {
   "cell_type": "markdown",
   "id": "c1732ffe",
   "metadata": {},
   "source": [
    "Write a function that uses the yield statement to produce a generator."
   ]
  },
  {
   "cell_type": "code",
   "execution_count": 37,
   "id": "77d601a1",
   "metadata": {},
   "outputs": [
    {
     "name": "stdout",
     "output_type": "stream",
     "text": [
      "1\n",
      "4\n",
      "9\n",
      "16\n",
      "25\n"
     ]
    }
   ],
   "source": [
    "def my_generator():\n",
    "    for i in range(1, 6):\n",
    "        yield i ** 2\n",
    "\n",
    "gen = my_generator()\n",
    "for value in gen:\n",
    "    print(value)\n"
   ]
  },
  {
   "cell_type": "markdown",
   "id": "413bf1e2",
   "metadata": {},
   "source": [
    "Explain the difference between iterators and generators in Python."
   ]
  },
  {
   "cell_type": "code",
   "execution_count": 54,
   "id": "8b944f0e",
   "metadata": {},
   "outputs": [
    {
     "name": "stdout",
     "output_type": "stream",
     "text": [
      "1\n",
      "2\n",
      "3\n",
      "4\n",
      "5\n",
      "0\n",
      "2\n",
      "4\n",
      "6\n",
      "8\n"
     ]
    },
    {
     "data": {
      "text/plain": [
       "' iterators are a general concept for objects that support iteration,\\n while generators are a specific implementation of iterators that offer\\nlazy evaluation and are created using generator functions or expressions'"
      ]
     },
     "execution_count": 54,
     "metadata": {},
     "output_type": "execute_result"
    }
   ],
   "source": [
    "class MyIterator:\n",
    "    def __init__(self, data):\n",
    "        self.data = data\n",
    "        self.index = 0\n",
    "\n",
    "    def __iter__(self):\n",
    "        return self\n",
    "\n",
    "    def __next__(self):\n",
    "        if self.index >= len(self.data):\n",
    "            raise StopIteration\n",
    "        value = self.data[self.index]\n",
    "        self.index += 1\n",
    "        return value\n",
    "my_list = [1, 2, 3, 4, 5]\n",
    "my_iter = iter(my_list)\n",
    "\n",
    "for item in my_iter:\n",
    "    print(item)\n",
    "\n",
    "\n",
    "# Generator function to generate even numbers\n",
    "def even_numbers():\n",
    "    num = 0\n",
    "    while True:\n",
    "        yield num\n",
    "        num += 2\n",
    "\n",
    "even_gen = even_numbers()\n",
    "for _ in range(5):\n",
    "    print(next(even_gen))\n",
    "\n",
    "''' iterators are a general concept for objects that support iteration,\n",
    " while generators are a specific implementation of iterators that offer\n",
    "lazy evaluation and are created using generator functions or expressions'''\n"
   ]
  },
  {
   "cell_type": "markdown",
   "id": "0d59b556",
   "metadata": {},
   "source": [
    "Write a Python program that includes a nested function. Inside the nested function, access a variable from the enclosing function's scope, and explain how the scope resolution works in this case."
   ]
  },
  {
   "cell_type": "code",
   "execution_count": 38,
   "id": "992f17dd",
   "metadata": {},
   "outputs": [
    {
     "name": "stdout",
     "output_type": "stream",
     "text": [
      "Value of x from the enclosing function: 10\n"
     ]
    }
   ],
   "source": [
    "def outer_function():\n",
    "    x = 10  \n",
    "\n",
    "    def nested_function():\n",
    "        print(\"Value of x from the enclosing function:\", x)\n",
    "    nested_function()\n",
    "outer_function()\n"
   ]
  },
  {
   "cell_type": "markdown",
   "id": "a945086c",
   "metadata": {},
   "source": [
    "Create a list of strings containing both uppercase and lowercase words. Use a lambda function with the sorted() function to sort the list in a case-insensitive manner."
   ]
  },
  {
   "cell_type": "code",
   "execution_count": 40,
   "id": "d6445a64",
   "metadata": {},
   "outputs": [
    {
     "name": "stdout",
     "output_type": "stream",
     "text": [
      "Original list of words:  ['Apple', 'banana', 'Orange', 'PEAR']\n",
      "Sorted list of words:  ['Apple', 'banana', 'Orange', 'PEAR']\n"
     ]
    }
   ],
   "source": [
    "words = ['Apple', 'banana', 'Orange', 'PEAR']\n",
    "sorted_words = sorted(words, key=lambda x: x.lower())\n",
    "\n",
    "print(\"Original list of words: \", words)\n",
    "print(\"Sorted list of words: \", sorted_words)\n"
   ]
  },
  {
   "cell_type": "markdown",
   "id": "9b5aa572",
   "metadata": {},
   "source": [
    "Implement a generator function that yields prime numbers indefinitely. Use this generator to print the first 10 prime numbers."
   ]
  },
  {
   "cell_type": "code",
   "execution_count": 45,
   "id": "86f1ead1",
   "metadata": {},
   "outputs": [
    {
     "name": "stdout",
     "output_type": "stream",
     "text": [
      "First 10 prime numbers:\n",
      "2\n",
      "3\n",
      "5\n",
      "7\n",
      "11\n",
      "13\n",
      "17\n",
      "19\n",
      "23\n",
      "29\n"
     ]
    }
   ],
   "source": [
    "def prime_generator():\n",
    "    number = 2\n",
    "    while True:\n",
    "        if is_prime(number):\n",
    "            yield number\n",
    "        number += 1\n",
    "prime_gen = prime_generator()\n",
    "\n",
    "print(\"First 10 prime numbers:\")\n",
    "for _ in range(10):\n",
    "    print(next(prime_gen))\n"
   ]
  },
  {
   "cell_type": "markdown",
   "id": "e3b956a8",
   "metadata": {},
   "source": [
    "Write a decorator function that measures the execution time of another function. Apply this decorator to a function of your choice and print the execution time."
   ]
  },
  {
   "cell_type": "code",
   "execution_count": 46,
   "id": "ebbab120",
   "metadata": {},
   "outputs": [
    {
     "name": "stdout",
     "output_type": "stream",
     "text": [
      "Execution time of example_function: 0.172536 seconds\n",
      "Result: 500000500000\n"
     ]
    }
   ],
   "source": [
    "import time\n",
    "from functools import wraps\n",
    "\n",
    "def measure_execution_time(func):\n",
    "    @wraps(func)\n",
    "    def wrapper(*args, **kwargs):\n",
    "        start_time = time.time()\n",
    "        result = func(*args, **kwargs)\n",
    "        end_time = time.time()\n",
    "        execution_time = end_time - start_time\n",
    "        print(f\"Execution time of {func.__name__}: {execution_time:.6f} seconds\")\n",
    "        return result\n",
    "    return wrapper\n",
    "\n",
    "@measure_execution_time\n",
    "def example_function(n):\n",
    "    #Example function that computes the sum of numbers from 1 to n.\n",
    "    total_sum = 0\n",
    "    for i in range(1, n + 1):\n",
    "        total_sum += i\n",
    "    return total_sum\n",
    "n = 1000000\n",
    "result = example_function(n)\n",
    "print(\"Result:\", result)\n"
   ]
  }
 ],
 "metadata": {
  "kernelspec": {
   "display_name": "Python 3 (ipykernel)",
   "language": "python",
   "name": "python3"
  },
  "language_info": {
   "codemirror_mode": {
    "name": "ipython",
    "version": 3
   },
   "file_extension": ".py",
   "mimetype": "text/x-python",
   "name": "python",
   "nbconvert_exporter": "python",
   "pygments_lexer": "ipython3",
   "version": "3.11.9"
  }
 },
 "nbformat": 4,
 "nbformat_minor": 5
}
