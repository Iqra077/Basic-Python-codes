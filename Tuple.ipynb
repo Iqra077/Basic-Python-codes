{
 "cells": [
  {
   "cell_type": "markdown",
   "id": "1488806a",
   "metadata": {},
   "source": [
    "### Assignment-04 (Tuple)\n",
    "- Change the notebook name with your name and Roll Number.\n",
    "- Try this as your own, no chatgpt (it's for your learning)\n",
    "- after completing the assignment, submit this book on google class room."
   ]
  },
  {
   "cell_type": "markdown",
   "id": "0f49daa5",
   "metadata": {},
   "source": [
    "    Create an empty tuple and print it.\n",
    "        "
   ]
  },
  {
   "cell_type": "code",
   "execution_count": 1,
   "id": "9f34fb22",
   "metadata": {},
   "outputs": [
    {
     "name": "stdout",
     "output_type": "stream",
     "text": [
      "Empty tuple: ()\n"
     ]
    }
   ],
   "source": [
    "empty_tuple = ()\n",
    "print(\"Empty tuple:\", empty_tuple)\n"
   ]
  },
  {
   "cell_type": "markdown",
   "id": "e043fa87",
   "metadata": {},
   "source": [
    "    Create a tuple of your favorite fruits and print it.\n"
   ]
  },
  {
   "cell_type": "code",
   "execution_count": 2,
   "id": "a8075e3e",
   "metadata": {},
   "outputs": [
    {
     "name": "stdout",
     "output_type": "stream",
     "text": [
      "Favorite fruits: ('apple', 'banana', 'orange', 'mango')\n"
     ]
    }
   ],
   "source": [
    "fvrt_fruits = ('apple', 'banana', 'orange', 'mango')\n",
    "print(\"Favorite fruits:\", fvrt_fruits)\n"
   ]
  },
  {
   "cell_type": "markdown",
   "id": "63103aae",
   "metadata": {},
   "source": [
    "    Create a tuple that includes a mix of data types (integers, strings, floats).\n",
    "  "
   ]
  },
  {
   "cell_type": "code",
   "execution_count": 3,
   "id": "02d21498",
   "metadata": {},
   "outputs": [
    {
     "name": "stdout",
     "output_type": "stream",
     "text": [
      "Mixed tuple: (10, 'apple', 2.65, 54, 'banana', 22)\n"
     ]
    }
   ],
   "source": [
    "mixed_tuple = (10, 'apple', 2.65, 54, 'banana', 22)\n",
    "print(\"Mixed tuple:\", mixed_tuple)\n"
   ]
  },
  {
   "cell_type": "markdown",
   "id": "704e22bb",
   "metadata": {},
   "source": [
    "  Access the first element of a tuple.\n"
   ]
  },
  {
   "cell_type": "code",
   "execution_count": 4,
   "id": "bf90e463",
   "metadata": {},
   "outputs": [
    {
     "name": "stdout",
     "output_type": "stream",
     "text": [
      "First element of the tuple: 10\n"
     ]
    }
   ],
   "source": [
    "tuple1 = (10, 20, 30, 40, 50)\n",
    "first_element = tuple1[0]\n",
    "print(\"First element of the tuple:\", first_element)\n"
   ]
  },
  {
   "cell_type": "markdown",
   "id": "26563419",
   "metadata": {},
   "source": [
    "    Access the last element of a tuple."
   ]
  },
  {
   "cell_type": "code",
   "execution_count": 5,
   "id": "54b98b3a",
   "metadata": {},
   "outputs": [
    {
     "name": "stdout",
     "output_type": "stream",
     "text": [
      "Last element of the tuple: 50\n"
     ]
    }
   ],
   "source": [
    "last_element = tuple1[-1]\n",
    "print(\"Last element of the tuple:\", last_element)"
   ]
  },
  {
   "cell_type": "markdown",
   "id": "15d49e96",
   "metadata": {},
   "source": [
    "Access the second and third elements of a tuple.\n"
   ]
  },
  {
   "cell_type": "code",
   "execution_count": 7,
   "id": "1b8f2886",
   "metadata": {},
   "outputs": [
    {
     "name": "stdout",
     "output_type": "stream",
     "text": [
      "second element of the tuple: 20 \n",
      "third element of the tuple:  30\n"
     ]
    }
   ],
   "source": [
    "sec_element = tuple1[1]\n",
    "third_element = tuple1[2]\n",
    "print(\"second element of the tuple:\", sec_element, \"\\nthird element of the tuple: \", third_element)"
   ]
  },
  {
   "cell_type": "markdown",
   "id": "069741b2",
   "metadata": {},
   "source": [
    "\n",
    "    Slice a tuple to extract the first three elements.\n",
    "    "
   ]
  },
  {
   "cell_type": "code",
   "execution_count": 8,
   "id": "ba3f17f2",
   "metadata": {},
   "outputs": [
    {
     "name": "stdout",
     "output_type": "stream",
     "text": [
      "First three elements:  (10, 20, 30)\n"
     ]
    }
   ],
   "source": [
    "firstthree_element = tuple1[:3]\n",
    "print(\"First three elements: \",firstthree_element)"
   ]
  },
  {
   "cell_type": "markdown",
   "id": "f5f8af36",
   "metadata": {},
   "source": [
    "Slice a tuple to extract the last three elements.\n",
    " "
   ]
  },
  {
   "cell_type": "code",
   "execution_count": 9,
   "id": "72b61419",
   "metadata": {},
   "outputs": [
    {
     "name": "stdout",
     "output_type": "stream",
     "text": [
      "Last three elements:  (30, 40, 50)\n"
     ]
    }
   ],
   "source": [
    "lastthree_element = tuple1[-3:]\n",
    "print(\"Last three elements: \",lastthree_element)"
   ]
  },
  {
   "cell_type": "markdown",
   "id": "fbf3a8e6",
   "metadata": {},
   "source": [
    "   Slice a tuple to get every second element.\n"
   ]
  },
  {
   "cell_type": "code",
   "execution_count": 10,
   "id": "2f28222b",
   "metadata": {},
   "outputs": [
    {
     "name": "stdout",
     "output_type": "stream",
     "text": [
      "Every second element:  (10, 30, 50)\n"
     ]
    }
   ],
   "source": [
    "esec_element = tuple1[::2]\n",
    "print(\"Every second element: \",esec_element)"
   ]
  },
  {
   "cell_type": "markdown",
   "id": "972a3d7e",
   "metadata": {},
   "source": [
    "    Reverse a tuple using slicing."
   ]
  },
  {
   "cell_type": "code",
   "execution_count": 11,
   "id": "a0c026b2",
   "metadata": {},
   "outputs": [
    {
     "name": "stdout",
     "output_type": "stream",
     "text": [
      "reversed List:  (50, 40, 30, 20, 10)\n"
     ]
    }
   ],
   "source": [
    "reversed_tuple = tuple1[::-1]\n",
    "print(\"reversed List: \", reversed_tuple)"
   ]
  },
  {
   "cell_type": "markdown",
   "id": "ff819f8c",
   "metadata": {},
   "source": [
    "Create two tuples and concatenate them.\n",
    "\n"
   ]
  },
  {
   "cell_type": "code",
   "execution_count": 12,
   "id": "34bb1253",
   "metadata": {},
   "outputs": [
    {
     "name": "stdout",
     "output_type": "stream",
     "text": [
      "Concatenated tuple: (1, 2, 3, 4, 5, 6)\n"
     ]
    }
   ],
   "source": [
    "tuple1 = (1, 2, 3)\n",
    "tuple2 = (4, 5, 6)\n",
    "concatenated = tuple1 + tuple2\n",
    "\n",
    "print(\"Concatenated tuple:\", concatenated)\n"
   ]
  },
  {
   "cell_type": "markdown",
   "id": "6f81c447",
   "metadata": {},
   "source": [
    "    Repeat a tuple multiple times using the repetition operator."
   ]
  },
  {
   "cell_type": "code",
   "execution_count": 13,
   "id": "a7993e54",
   "metadata": {},
   "outputs": [
    {
     "name": "stdout",
     "output_type": "stream",
     "text": [
      "Repeated tuple: (1, 2, 3, 1, 2, 3)\n"
     ]
    }
   ],
   "source": [
    "tuple3 = (1, 2, 3)\n",
    "repeated_tuple = tuple3 * 2\n",
    "print(\"Repeated tuple:\", repeated_tuple)"
   ]
  },
  {
   "cell_type": "markdown",
   "id": "e39bdb1d",
   "metadata": {},
   "source": [
    "Find the index of a specific element in a tuple using the index() method."
   ]
  },
  {
   "cell_type": "code",
   "execution_count": 14,
   "id": "d0887521",
   "metadata": {},
   "outputs": [
    {
     "name": "stdout",
     "output_type": "stream",
     "text": [
      "Index:  2\n"
     ]
    }
   ],
   "source": [
    "tuple1 = (10, 20, 30, 40, 50)\n",
    "index_of_tuple = tuple1.index(30)\n",
    "print(\"Index: \", index_of_tuple)"
   ]
  },
  {
   "cell_type": "markdown",
   "id": "fc66ca7e",
   "metadata": {},
   "source": [
    "    Count the number of occurrences of a specific element in a tuple using the count() method."
   ]
  },
  {
   "cell_type": "code",
   "execution_count": 15,
   "id": "d9bf2831",
   "metadata": {},
   "outputs": [
    {
     "name": "stdout",
     "output_type": "stream",
     "text": [
      "Count:  2\n"
     ]
    }
   ],
   "source": [
    "tuple4 = (10, 20, 30, 200, 40, 200, 50)\n",
    "count_tuple = tuple4.count(200)\n",
    "print(\"Count: \", count_tuple)\n"
   ]
  },
  {
   "cell_type": "markdown",
   "id": "9bdef970",
   "metadata": {},
   "source": [
    "Sort a tuple of numbers in ascending order.\n",
    "\n"
   ]
  },
  {
   "cell_type": "code",
   "execution_count": 16,
   "id": "326fca51",
   "metadata": {},
   "outputs": [
    {
     "name": "stdout",
     "output_type": "stream",
     "text": [
      "Tuple in ascending order: (1, 3, 4, 5, 7, 8, 9)\n"
     ]
    }
   ],
   "source": [
    "tuplee = (3, 1, 4, 5, 7, 8, 9)\n",
    "sorted_tuple = tuple(sorted(tuplee))\n",
    "print(\"Tuple in ascending order:\", sorted_tuple)\n"
   ]
  },
  {
   "cell_type": "markdown",
   "id": "2b1d9be5",
   "metadata": {},
   "source": [
    "    Sort a tuple of strings in alphabetical order."
   ]
  },
  {
   "cell_type": "code",
   "execution_count": 17,
   "id": "5b0a511f",
   "metadata": {},
   "outputs": [
    {
     "name": "stdout",
     "output_type": "stream",
     "text": [
      "Tuple in alphabetical order: ('apple', 'banana', 'grape', 'orange')\n"
     ]
    }
   ],
   "source": [
    "tuplee = ('banana', 'apple', 'orange', 'grape')\n",
    "sorted_tuple = tuple(sorted(tuplee))\n",
    "print(\"Tuple in alphabetical order:\", sorted_tuple)\n"
   ]
  },
  {
   "cell_type": "markdown",
   "id": "0393ae63",
   "metadata": {},
   "source": [
    "Sort a tuple of tuples based on the second element of each inner tuple."
   ]
  },
  {
   "cell_type": "code",
   "execution_count": 18,
   "id": "5b0d33fd",
   "metadata": {},
   "outputs": [
    {
     "name": "stdout",
     "output_type": "stream",
     "text": [
      "Sorted tuple of tuples based on the second element: ((4, 1), (2, 3), (1, 5), (3, 7))\n"
     ]
    }
   ],
   "source": [
    "my_tuple = ((1, 5), (2, 3), (3, 7), (4, 1))\n",
    "sorted_tuple = tuple(sorted(my_tuple, key=lambda x: x[1]))\n",
    "print(\"Sorted tuple of tuples based on the second element:\", sorted_tuple)\n"
   ]
  },
  {
   "cell_type": "markdown",
   "id": "65b8f449",
   "metadata": {},
   "source": [
    "Compare two tuples to see if they are equal in both value and identity."
   ]
  },
  {
   "cell_type": "code",
   "execution_count": 20,
   "id": "e09a6135",
   "metadata": {},
   "outputs": [
    {
     "name": "stdout",
     "output_type": "stream",
     "text": [
      "Tuples equal in both value and identity:  True\n"
     ]
    }
   ],
   "source": [
    "tuple1 = (1, 2, 3)\n",
    "tuple2 = (1, 2, 3)\n",
    "equal = tuple1 == tuple2\n",
    "print(\"Tuples equal in both value and identity: \", equal)\n"
   ]
  },
  {
   "cell_type": "markdown",
   "id": "0810cc18",
   "metadata": {},
   "source": [
    "Create a shallow copy of a tuple and observe the effects of modifying one of the tuples."
   ]
  },
  {
   "cell_type": "code",
   "execution_count": 21,
   "id": "426bacd6",
   "metadata": {},
   "outputs": [
    {
     "name": "stdout",
     "output_type": "stream",
     "text": [
      "Original tuple: (1, 2, 3)\n",
      "Shallow copy of tuple: (1, 2, 3, 4, 5)\n"
     ]
    }
   ],
   "source": [
    "import copy\n",
    "org_tuple = (1, 2, 3)\n",
    "shallow_copy = copy.copy(org_tuple)\n",
    "shallow_copy += (4, 5)\n",
    "print(\"Original tuple:\", org_tuple)\n",
    "print(\"Shallow copy of tuple:\", shallow_copy)\n",
    "\n"
   ]
  },
  {
   "cell_type": "markdown",
   "id": "f14455c5",
   "metadata": {},
   "source": [
    "    Create a deep copy of a nested tuple and observe the effects of modifying one of the tuples.\n"
   ]
  },
  {
   "cell_type": "code",
   "execution_count": 22,
   "id": "4564c764",
   "metadata": {},
   "outputs": [
    {
     "name": "stdout",
     "output_type": "stream",
     "text": [
      "Original nested tuple: (1, [2, 3, 4], 5)\n",
      "Deep copy nested tuple: (1, [2, 3, 4, 6], 5)\n"
     ]
    }
   ],
   "source": [
    "import copy\n",
    "org_tuple = (1, [2, 3, 4], 5)\n",
    "deep_copy_tuple = copy.deepcopy(org_tuple)\n",
    "deep_copy_tuple[1].append(6)\n",
    "print(\"Original nested tuple:\", org_tuple)\n",
    "print(\"Deep copy nested tuple:\", deep_copy_tuple)\n"
   ]
  },
  {
   "cell_type": "markdown",
   "id": "b01879a0",
   "metadata": {},
   "source": [
    "    Pickle a tuple and save it to a file.\n"
   ]
  },
  {
   "cell_type": "code",
   "execution_count": 25,
   "id": "55ddfbd4",
   "metadata": {},
   "outputs": [
    {
     "name": "stdout",
     "output_type": "stream",
     "text": [
      "Tuple pickled and saved to: tuple_data.pk\n"
     ]
    }
   ],
   "source": [
    "import pickle\n",
    "tuple1 = (1, 2, 3, 4, 5)\n",
    "file_path = \"tuple_data.pk\"\n",
    "with open(file_path, 'wb') as file:\n",
    "    pickle.dump(tuple1, file)\n",
    "\n",
    "print(\"Tuple pickled and saved to:\", file_path)\n"
   ]
  },
  {
   "cell_type": "markdown",
   "id": "6874f46a",
   "metadata": {},
   "source": [
    "    Unpickle a tuple from a file and display its content."
   ]
  },
  {
   "cell_type": "code",
   "execution_count": 26,
   "id": "02f8549f",
   "metadata": {},
   "outputs": [
    {
     "name": "stdout",
     "output_type": "stream",
     "text": [
      "Unpickled tuple: (1, 2, 3, 4, 5)\n"
     ]
    }
   ],
   "source": [
    "import pickle\n",
    "file_path = \"tuple_data.pk\"\n",
    "with open(file_path, 'rb') as file:\n",
    "    unpickled_tuple = pickle.load(file)\n",
    "\n",
    "print(\"Unpickled tuple:\", unpickled_tuple)\n",
    "\n"
   ]
  }
 ],
 "metadata": {
  "kernelspec": {
   "display_name": "Python 3 (ipykernel)",
   "language": "python",
   "name": "python3"
  },
  "language_info": {
   "codemirror_mode": {
    "name": "ipython",
    "version": 3
   },
   "file_extension": ".py",
   "mimetype": "text/x-python",
   "name": "python",
   "nbconvert_exporter": "python",
   "pygments_lexer": "ipython3",
   "version": "3.11.9"
  }
 },
 "nbformat": 4,
 "nbformat_minor": 5
}
