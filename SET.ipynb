{
 "cells": [
  {
   "cell_type": "markdown",
   "id": "a97576a6",
   "metadata": {},
   "source": [
    "### Assignment-03 (SET)\n",
    "- Change the notebook name with your name and Roll Number.\n",
    "- Try this as your own, no chatgpt (it's for your learning)\n",
    "- after completing the assignment, submit this book on google class room."
   ]
  },
  {
   "cell_type": "markdown",
   "id": "d1ddf3da",
   "metadata": {},
   "source": [
    "    Create an empty set and print it.\n",
    "  "
   ]
  },
  {
   "cell_type": "code",
   "execution_count": 3,
   "id": "c9e9db1e",
   "metadata": {},
   "outputs": [
    {
     "name": "stdout",
     "output_type": "stream",
     "text": [
      "Empty set:  {}\n"
     ]
    }
   ],
   "source": [
    "empty_set = {}\n",
    "print(\"Empty set: \",empty_set)"
   ]
  },
  {
   "cell_type": "markdown",
   "id": "eeb8fb4d",
   "metadata": {},
   "source": [
    "  Create a set of your favorite colors and print it.\n"
   ]
  },
  {
   "cell_type": "code",
   "execution_count": 4,
   "id": "d8867e41",
   "metadata": {},
   "outputs": [
    {
     "name": "stdout",
     "output_type": "stream",
     "text": [
      "set of favorite colors:  {'yellow', 'green', 'black', 'purple', 'blue'}\n"
     ]
    }
   ],
   "source": [
    "fvrt_colors = {\"blue\",\"black\",\"green\",\"purple\",\"yellow\"}\n",
    "print(\"set of favorite colors: \", fvrt_colors)"
   ]
  },
  {
   "cell_type": "markdown",
   "id": "5e724df6",
   "metadata": {},
   "source": [
    "    Create a set that includes a mix of data types (integers, strings, floats)."
   ]
  },
  {
   "cell_type": "code",
   "execution_count": 5,
   "id": "e496901a",
   "metadata": {},
   "outputs": [
    {
     "name": "stdout",
     "output_type": "stream",
     "text": [
      "Mixed set: {3.67, 21, 10, 'banana', 'apple'}\n"
     ]
    }
   ],
   "source": [
    "mixed_set = {10, 'apple', 3.67, 21,'banana'}\n",
    "print(\"Mixed set:\", mixed_set)\n"
   ]
  },
  {
   "cell_type": "markdown",
   "id": "d2b80125",
   "metadata": {},
   "source": [
    "Access the elements of a set using a loop and print each element."
   ]
  },
  {
   "cell_type": "code",
   "execution_count": 6,
   "id": "3ceec096",
   "metadata": {},
   "outputs": [
    {
     "name": "stdout",
     "output_type": "stream",
     "text": [
      "Elements in set:  3.67\n",
      "Elements in set:  21\n",
      "Elements in set:  10\n",
      "Elements in set:  banana\n",
      "Elements in set:  apple\n"
     ]
    }
   ],
   "source": [
    "for element in mixed_set:\n",
    "    print(\"Elements in set: \",element)"
   ]
  },
  {
   "cell_type": "markdown",
   "id": "08fdccf7",
   "metadata": {},
   "source": [
    "add a new element to a set using the add() method."
   ]
  },
  {
   "cell_type": "code",
   "execution_count": 7,
   "id": "5d5273f9",
   "metadata": {},
   "outputs": [
    {
     "name": "stdout",
     "output_type": "stream",
     "text": [
      "Updated set:  {3.67, 21, 56, 10, 'banana', 'apple'}\n"
     ]
    }
   ],
   "source": [
    "mixed_set.add(56)\n",
    "print(\"Updated set: \",mixed_set)"
   ]
  },
  {
   "cell_type": "markdown",
   "id": "c8257b4c",
   "metadata": {},
   "source": [
    "Add multiple elements to a set using the update() method."
   ]
  },
  {
   "cell_type": "code",
   "execution_count": 8,
   "id": "d3fe8634",
   "metadata": {},
   "outputs": [
    {
     "name": "stdout",
     "output_type": "stream",
     "text": [
      "Updated set:  {65, 2, 3, 1, 5, 'green', 12, 'red', 22, 54}\n"
     ]
    }
   ],
   "source": [
    "new_set = {2,3,5,1,\"red\",\"green\",65}\n",
    "new_set.update([22,54,12])\n",
    "print(\"Updated set: \",new_set)"
   ]
  },
  {
   "cell_type": "markdown",
   "id": "e8adbe50",
   "metadata": {},
   "source": [
    "Remove and return an arbitrary element from a set using the pop() method."
   ]
  },
  {
   "cell_type": "code",
   "execution_count": 9,
   "id": "bfdcad15",
   "metadata": {},
   "outputs": [
    {
     "name": "stdout",
     "output_type": "stream",
     "text": [
      "Removed element:  65\n",
      "Updated set:  {2, 3, 1, 5, 'green', 12, 'red', 22, 54}\n"
     ]
    }
   ],
   "source": [
    "removed_element = new_set.pop()\n",
    "print(\"Removed element: \", removed_element)\n",
    "print(\"Updated set: \", new_set)"
   ]
  },
  {
   "cell_type": "markdown",
   "id": "6bacfc71",
   "metadata": {},
   "source": [
    "Remove a specific element from a set using the remove() method."
   ]
  },
  {
   "cell_type": "code",
   "execution_count": 10,
   "id": "d7d4d697",
   "metadata": {},
   "outputs": [
    {
     "name": "stdout",
     "output_type": "stream",
     "text": [
      "Updated Set:  {2, 3, 1, 'green', 12, 'red', 22, 54}\n"
     ]
    }
   ],
   "source": [
    "new_set.remove(5)\n",
    "print(\"Updated Set: \",new_set)"
   ]
  },
  {
   "cell_type": "markdown",
   "id": "1844da3c",
   "metadata": {},
   "source": [
    "Remove a specific element from a set using the discard() method."
   ]
  },
  {
   "cell_type": "code",
   "execution_count": 11,
   "id": "36164bf7",
   "metadata": {},
   "outputs": [
    {
     "name": "stdout",
     "output_type": "stream",
     "text": [
      "Updated set:  {3, 1, 'green', 12, 'red', 22, 54}\n"
     ]
    }
   ],
   "source": [
    "new_set.discard(2)\n",
    "print(\"Updated set: \",new_set)"
   ]
  },
  {
   "cell_type": "markdown",
   "id": "8bd3aadb",
   "metadata": {},
   "source": [
    "Convert a string to a set of unique characters."
   ]
  },
  {
   "cell_type": "code",
   "execution_count": 12,
   "id": "5d135ac7",
   "metadata": {},
   "outputs": [
    {
     "name": "stdout",
     "output_type": "stream",
     "text": [
      "Unique Characters:  {'l', 'h', 'e', 'o'}\n"
     ]
    }
   ],
   "source": [
    "string = \"hello\"\n",
    "characters = set(string)\n",
    "print(\"Unique Characters: \", characters)"
   ]
  },
  {
   "cell_type": "markdown",
   "id": "6c622821",
   "metadata": {},
   "source": [
    "Convert a set of characters to a string."
   ]
  },
  {
   "cell_type": "code",
   "execution_count": 19,
   "id": "fb3156ac",
   "metadata": {},
   "outputs": [
    {
     "name": "stdout",
     "output_type": "stream",
     "text": [
      "olher\n"
     ]
    }
   ],
   "source": [
    "unique_str = {\"h\",\"e\",\"l\",\"o\",\"r\"}\n",
    "conversion = ''.join(unique_str)\n",
    "print(conversion)"
   ]
  },
  {
   "cell_type": "markdown",
   "id": "9a426c8f",
   "metadata": {},
   "source": [
    "Use the clear() method to remove all elements from a set."
   ]
  },
  {
   "cell_type": "code",
   "execution_count": 20,
   "id": "88a65643",
   "metadata": {},
   "outputs": [
    {
     "name": "stdout",
     "output_type": "stream",
     "text": [
      "clear set:  set()\n"
     ]
    }
   ],
   "source": [
    "sett = {1,2,3,4}\n",
    "sett.clear()\n",
    "print(\"clear set: \", sett)"
   ]
  },
  {
   "cell_type": "markdown",
   "id": "9edea94d",
   "metadata": {},
   "source": [
    "Use the copy() method to create a shallow copy of a set."
   ]
  },
  {
   "cell_type": "code",
   "execution_count": 21,
   "id": "eb4e0b56",
   "metadata": {},
   "outputs": [
    {
     "name": "stdout",
     "output_type": "stream",
     "text": [
      "Original set: {1, 2, 3, 4}\n",
      "Shallow copy set: {1, 2, 3}\n"
     ]
    }
   ],
   "source": [
    "org_set = {1,2,3}\n",
    "shallow_copy = org_set.copy()\n",
    "org_set.add(4)\n",
    "print(\"Original set:\", org_set)\n",
    "print(\"Shallow copy set:\", shallow_copy)\n"
   ]
  },
  {
   "cell_type": "markdown",
   "id": "cd9c69f0",
   "metadata": {},
   "source": [
    "Use the difference() method to find the difference between two sets."
   ]
  },
  {
   "cell_type": "code",
   "execution_count": 22,
   "id": "2f816d0f",
   "metadata": {},
   "outputs": [
    {
     "name": "stdout",
     "output_type": "stream",
     "text": [
      "Difference between both sets: {1, 2, 3}\n"
     ]
    }
   ],
   "source": [
    "set_1 = {1, 2, 3, 4, 5}\n",
    "set_2 = {4, 5, 6, 7, 8}\n",
    "difference = set_1.difference(set_2)\n",
    "print(\"Difference between both sets:\", difference)\n"
   ]
  },
  {
   "cell_type": "markdown",
   "id": "307c3f1a",
   "metadata": {},
   "source": [
    "Create two sets and find their union."
   ]
  },
  {
   "cell_type": "code",
   "execution_count": 25,
   "id": "fac5a114",
   "metadata": {},
   "outputs": [
    {
     "name": "stdout",
     "output_type": "stream",
     "text": [
      "Union of both sets: {1, 2, 3, 4, 5, 6}\n"
     ]
    }
   ],
   "source": [
    "sett1 = {1, 2, 3}\n",
    "sett2 = {4, 5, 6}\n",
    "union = sett1.union(sett2)\n",
    "print(\"Union of both sets:\", union)\n"
   ]
  },
  {
   "cell_type": "markdown",
   "id": "eaf6ba0c",
   "metadata": {},
   "source": [
    "    Create two sets and find their intersection.\n",
    "   "
   ]
  },
  {
   "cell_type": "code",
   "execution_count": 26,
   "id": "1169662c",
   "metadata": {},
   "outputs": [
    {
     "name": "stdout",
     "output_type": "stream",
     "text": [
      "Intersection of both sets: {3, 4, 5}\n"
     ]
    }
   ],
   "source": [
    "set__1 = {1, 2, 3, 4, 5}\n",
    "set__2 = {3, 4, 5}\n",
    "intersection = set__1.intersection(set__2)\n",
    "print(\"Intersection of both sets:\", intersection)\n"
   ]
  },
  {
   "cell_type": "markdown",
   "id": "859e1d7f",
   "metadata": {},
   "source": [
    " Create two sets and find their difference.\n"
   ]
  },
  {
   "cell_type": "code",
   "execution_count": 27,
   "id": "681f05e6",
   "metadata": {},
   "outputs": [
    {
     "name": "stdout",
     "output_type": "stream",
     "text": [
      "Difference : {1, 2}\n"
     ]
    }
   ],
   "source": [
    "sset1 = {1, 2, 3, 4, 5}\n",
    "sset2 = {3, 4, 5}\n",
    "difference = sset1.difference(sset2)\n",
    "print(\"Difference :\", difference)\n"
   ]
  },
  {
   "cell_type": "markdown",
   "id": "b1c839f5",
   "metadata": {},
   "source": [
    "    Create two sets and find their symmetric difference."
   ]
  },
  {
   "cell_type": "code",
   "execution_count": 28,
   "id": "c2695bb7",
   "metadata": {},
   "outputs": [
    {
     "name": "stdout",
     "output_type": "stream",
     "text": [
      "Symmetric difference between both sets: {1, 2, 4, 5}\n"
     ]
    }
   ],
   "source": [
    "set1 = {1, 2, 3}\n",
    "set2 = {3, 4, 5}\n",
    "symmetric_diff = set1.symmetric_difference(set2)\n",
    "\n",
    "# Print the symmetric difference set\n",
    "print(\"Symmetric difference between both sets:\", symmetric_diff)\n"
   ]
  },
  {
   "cell_type": "markdown",
   "id": "41933917",
   "metadata": {},
   "source": [
    "Check if one set is a subset of another."
   ]
  },
  {
   "cell_type": "code",
   "execution_count": 29,
   "id": "fc3d1fd0",
   "metadata": {},
   "outputs": [
    {
     "name": "stdout",
     "output_type": "stream",
     "text": [
      "set1 is a subset of set2\n"
     ]
    }
   ],
   "source": [
    "set1 = {1, 2, 3}\n",
    "set2 = {1, 2, 3, 4, 5}\n",
    "is_subset = set1.issubset(set2)\n",
    "\n",
    "if is_subset:\n",
    "    print(\"set1 is a subset of set2\")\n",
    "else:\n",
    "    print(\"set1 is not a subset of set2\")\n"
   ]
  },
  {
   "cell_type": "markdown",
   "id": "65174e5c",
   "metadata": {},
   "source": [
    "    Check if one set is a superset of another.\n"
   ]
  },
  {
   "cell_type": "code",
   "execution_count": 31,
   "id": "cc34dbf9",
   "metadata": {},
   "outputs": [
    {
     "name": "stdout",
     "output_type": "stream",
     "text": [
      "set1 is not a superset of set2\n"
     ]
    }
   ],
   "source": [
    "set1 = {1, 2, 3, 4, 5}\n",
    "set2 = {1, 2, 3, 7}\n",
    "is_superset = set1.issuperset(set2)\n",
    "if is_superset:\n",
    "    print(\"set1 is a superset of set2\")\n",
    "else:\n",
    "    print(\"set1 is not a superset of set2\")\n"
   ]
  },
  {
   "cell_type": "markdown",
   "id": "e8b05467",
   "metadata": {},
   "source": [
    "    Check if two sets are disjoint (have no common elements)."
   ]
  },
  {
   "cell_type": "code",
   "execution_count": 33,
   "id": "f5e84a48",
   "metadata": {},
   "outputs": [
    {
     "name": "stdout",
     "output_type": "stream",
     "text": [
      "set1 and set2 have common elements\n"
     ]
    }
   ],
   "source": [
    "set1 = {1, 2, 3, 4}\n",
    "set2 = {4, 5, 6}\n",
    "disjoint = set1.isdisjoint(set2)\n",
    "if disjoint:\n",
    "    print(\"set1 and set2 are disjoint\")\n",
    "else:\n",
    "    print(\"set1 and set2 have common elements\")\n"
   ]
  }
 ],
 "metadata": {
  "kernelspec": {
   "display_name": "Python 3 (ipykernel)",
   "language": "python",
   "name": "python3"
  },
  "language_info": {
   "codemirror_mode": {
    "name": "ipython",
    "version": 3
   },
   "file_extension": ".py",
   "mimetype": "text/x-python",
   "name": "python",
   "nbconvert_exporter": "python",
   "pygments_lexer": "ipython3",
   "version": "3.11.9"
  }
 },
 "nbformat": 4,
 "nbformat_minor": 5
}
