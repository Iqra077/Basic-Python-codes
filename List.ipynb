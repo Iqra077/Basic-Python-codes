{
 "cells": [
  {
   "cell_type": "markdown",
   "id": "48147901",
   "metadata": {},
   "source": [
    "### Assignment-01 (List)\n",
    "- Change the notebook name with your name and Roll Number.\n",
    "- Try this as your own, no chatgpt (it's for your learning)\n",
    "- after completing the assignment, submit this book on google class room."
   ]
  },
  {
   "cell_type": "code",
   "execution_count": null,
   "id": "26b4d246",
   "metadata": {},
   "outputs": [],
   "source": []
  },
  {
   "cell_type": "markdown",
   "id": "4a0551ca",
   "metadata": {},
   "source": [
    "Create an empty list and print it.\n"
   ]
  },
  {
   "cell_type": "code",
   "execution_count": 1,
   "id": "d2923b71",
   "metadata": {},
   "outputs": [
    {
     "name": "stdout",
     "output_type": "stream",
     "text": [
      "Empty list:  <class 'list'>\n"
     ]
    }
   ],
   "source": [
    "empty_list = []\n",
    "print('Empty list: ',list)"
   ]
  },
  {
   "cell_type": "markdown",
   "id": "fa6b638e",
   "metadata": {},
   "source": [
    "Create a list of your favorite colors and print it.\n"
   ]
  },
  {
   "cell_type": "code",
   "execution_count": 2,
   "id": "c549875c",
   "metadata": {},
   "outputs": [
    {
     "name": "stdout",
     "output_type": "stream",
     "text": [
      "list of favorite colors:  ['blue', 'black', 'green', 'purple']\n"
     ]
    }
   ],
   "source": [
    "fvrt_colors = ['blue','black','green','purple']\n",
    "print(\"list of favorite colors: \",fvrt_colors)"
   ]
  },
  {
   "cell_type": "markdown",
   "id": "4a1371d4",
   "metadata": {},
   "source": [
    "Create a list that includes a mix of data types (integers, strings, floats).\n"
   ]
  },
  {
   "cell_type": "code",
   "execution_count": 4,
   "id": "dfc878e2",
   "metadata": {},
   "outputs": [
    {
     "name": "stdout",
     "output_type": "stream",
     "text": [
      "Mix datatypes list:  ['JJ', 0.97, 21, '22']\n"
     ]
    }
   ],
   "source": [
    "mix_list = [\"JJ\", 0.97, 21, \"22\"]\n",
    "print(\"Mix datatypes list: \", mix_list)"
   ]
  },
  {
   "cell_type": "markdown",
   "id": "2916cde7",
   "metadata": {},
   "source": [
    "Access the first element of a list.\n"
   ]
  },
  {
   "cell_type": "code",
   "execution_count": 5,
   "id": "a0a7b3d2",
   "metadata": {},
   "outputs": [
    {
     "name": "stdout",
     "output_type": "stream",
     "text": [
      "First element:  JJ\n"
     ]
    }
   ],
   "source": [
    "print(\"First element: \",mix_list[0])"
   ]
  },
  {
   "cell_type": "markdown",
   "id": "13b39ea7",
   "metadata": {},
   "source": [
    "Access the last element of a list."
   ]
  },
  {
   "cell_type": "code",
   "execution_count": 6,
   "id": "4f8cf5da",
   "metadata": {},
   "outputs": [
    {
     "name": "stdout",
     "output_type": "stream",
     "text": [
      "Last element:  22\n"
     ]
    }
   ],
   "source": [
    "print(\"Last element: \",mix_list[-1])"
   ]
  },
  {
   "cell_type": "markdown",
   "id": "ef7e0f8d",
   "metadata": {},
   "source": [
    " Access the second and third elements of a list.\n"
   ]
  },
  {
   "cell_type": "code",
   "execution_count": 10,
   "id": "e215ceed",
   "metadata": {},
   "outputs": [
    {
     "name": "stdout",
     "output_type": "stream",
     "text": [
      "second element:  21 \n",
      "third element:  22\n"
     ]
    }
   ],
   "source": [
    "print(\"second element: \",mix_list[2],\"\\nthird element: \",mix_list[3])"
   ]
  },
  {
   "cell_type": "markdown",
   "id": "16ef79f1",
   "metadata": {},
   "source": [
    "\n",
    "Slice a list to extract the first three elements.\n"
   ]
  },
  {
   "cell_type": "code",
   "execution_count": 12,
   "id": "86d94d3c",
   "metadata": {},
   "outputs": [
    {
     "name": "stdout",
     "output_type": "stream",
     "text": [
      "first three elements: ['JJ', 0.97, 21]\n"
     ]
    }
   ],
   "source": [
    "print(\"first three elements:\",mix_list[:3])"
   ]
  },
  {
   "cell_type": "markdown",
   "id": "717afad5",
   "metadata": {},
   "source": [
    "Slice a list to extract the last three elements.\n"
   ]
  },
  {
   "cell_type": "code",
   "execution_count": 16,
   "id": "2f79b771",
   "metadata": {},
   "outputs": [
    {
     "name": "stdout",
     "output_type": "stream",
     "text": [
      "last three elements: [0.97, 21, '22']\n"
     ]
    }
   ],
   "source": [
    "print(\"last three elements:\",mix_list[-3:])"
   ]
  },
  {
   "cell_type": "markdown",
   "id": "da7f582e",
   "metadata": {},
   "source": [
    "Slice a list to get every second element.\n"
   ]
  },
  {
   "cell_type": "code",
   "execution_count": 15,
   "id": "4edeea3d",
   "metadata": {},
   "outputs": [
    {
     "name": "stdout",
     "output_type": "stream",
     "text": [
      "every seccond element: ['JJ', 21]\n"
     ]
    }
   ],
   "source": [
    "print(\"every seccond element:\",mix_list[::2])"
   ]
  },
  {
   "cell_type": "markdown",
   "id": "011bb9f7",
   "metadata": {},
   "source": [
    "Reverse a list using slicing."
   ]
  },
  {
   "cell_type": "code",
   "execution_count": 18,
   "id": "c11e7110",
   "metadata": {},
   "outputs": [
    {
     "name": "stdout",
     "output_type": "stream",
     "text": [
      "reverse list: ['22', 21, 0.97, 'JJ']\n"
     ]
    }
   ],
   "source": [
    "print(\"reverse list:\",mix_list[::-1])"
   ]
  },
  {
   "cell_type": "markdown",
   "id": "5f45b7a8",
   "metadata": {},
   "source": [
    " Create two lists and concatenate them.\n"
   ]
  },
  {
   "cell_type": "code",
   "execution_count": 21,
   "id": "2c210b01",
   "metadata": {},
   "outputs": [
    {
     "name": "stdout",
     "output_type": "stream",
     "text": [
      "[21, 3, 'red', 2.12, 'green', 22, 'cat', 65, 2.45, 'dog', 27, 25.1]\n"
     ]
    }
   ],
   "source": [
    "list_1 = [21, 3, \"red\", 2.12, \"green\", 22]\n",
    "list_2 = [\"cat\", 65, 2.45, \"dog\", 27, 25.1]\n",
    "new_list = list_1 + list_2\n",
    "print(new_list)"
   ]
  },
  {
   "cell_type": "markdown",
   "id": "a6c019d7",
   "metadata": {},
   "source": [
    "\n",
    "Repeat a list multiple times using the repetition operator"
   ]
  },
  {
   "cell_type": "code",
   "execution_count": 22,
   "id": "b40d10b9",
   "metadata": {},
   "outputs": [
    {
     "name": "stdout",
     "output_type": "stream",
     "text": [
      "[21, 3, 'red', 2.12, 'green', 22, 'cat', 65, 2.45, 'dog', 27, 25.1, 21, 3, 'red', 2.12, 'green', 22, 'cat', 65, 2.45, 'dog', 27, 25.1]\n"
     ]
    }
   ],
   "source": [
    "repeated_list = new_list * 2\n",
    "print(repeated_list)"
   ]
  },
  {
   "cell_type": "markdown",
   "id": "0fdf9b21",
   "metadata": {},
   "source": [
    "Add a new element to the end of a list using the append() method.\n"
   ]
  },
  {
   "cell_type": "code",
   "execution_count": 23,
   "id": "86906fc9",
   "metadata": {},
   "outputs": [
    {
     "name": "stdout",
     "output_type": "stream",
     "text": [
      "[2, 3, 54, 'red']\n"
     ]
    }
   ],
   "source": [
    "listt = [2, 3, 54]\n",
    "listt.append(\"red\")\n",
    "print(listt)"
   ]
  },
  {
   "cell_type": "markdown",
   "id": "1812e852",
   "metadata": {},
   "source": [
    "\n",
    "Extend a list with elements from another list using the extend() method.\n"
   ]
  },
  {
   "cell_type": "code",
   "execution_count": 25,
   "id": "375a8ac2",
   "metadata": {},
   "outputs": [
    {
     "name": "stdout",
     "output_type": "stream",
     "text": [
      "[2, 24, 3, 4, 2, 'hello', 5]\n"
     ]
    }
   ],
   "source": [
    "list1 = [2, 24, 3 , 4]\n",
    "list1.extend([2,'hello', 5])\n",
    "print(list1)"
   ]
  },
  {
   "cell_type": "markdown",
   "id": "b4285741",
   "metadata": {},
   "source": [
    "Insert an element at a specific index in a list using the insert() method."
   ]
  },
  {
   "cell_type": "code",
   "execution_count": 39,
   "id": "5e5b2a93",
   "metadata": {},
   "outputs": [
    {
     "name": "stdout",
     "output_type": "stream",
     "text": [
      "[2, 3, 4, 5, 10, 7]\n"
     ]
    }
   ],
   "source": [
    "lis = [2,3,4,5,7]\n",
    "lis.insert(4, 10)\n",
    "print(lis)"
   ]
  },
  {
   "cell_type": "markdown",
   "id": "5926ef7b",
   "metadata": {},
   "source": [
    " Remove the last element from a list using the pop() method.\n",
    "\n"
   ]
  },
  {
   "cell_type": "code",
   "execution_count": 40,
   "id": "ad229974",
   "metadata": {},
   "outputs": [
    {
     "name": "stdout",
     "output_type": "stream",
     "text": [
      "[2, 3, 4, 5, 10]\n"
     ]
    }
   ],
   "source": [
    "lis.pop(-1)\n",
    "print(lis)"
   ]
  },
  {
   "cell_type": "markdown",
   "id": "34faaad1",
   "metadata": {},
   "source": [
    "Remove a specific element from a list using the remove() method.\n"
   ]
  },
  {
   "cell_type": "code",
   "execution_count": 41,
   "id": "2706c63d",
   "metadata": {},
   "outputs": [
    {
     "name": "stdout",
     "output_type": "stream",
     "text": [
      "[2, 3, 4, 5]\n"
     ]
    }
   ],
   "source": [
    "lis.remove(10)\n",
    "print(lis)"
   ]
  },
  {
   "cell_type": "markdown",
   "id": "b066a57c",
   "metadata": {},
   "source": [
    "Clear all elements from a list.\n"
   ]
  },
  {
   "cell_type": "code",
   "execution_count": 43,
   "id": "a4cb30f8",
   "metadata": {},
   "outputs": [
    {
     "name": "stdout",
     "output_type": "stream",
     "text": [
      "clear list:  []\n"
     ]
    }
   ],
   "source": [
    "my_list = [2,\"eman\",67,2.21]\n",
    "my_list.clear()\n",
    "print(\"clear list: \",my_list)"
   ]
  },
  {
   "cell_type": "markdown",
   "id": "f9d4754d",
   "metadata": {},
   "source": [
    "Delete an element at a specific index using the del statement."
   ]
  },
  {
   "cell_type": "code",
   "execution_count": 45,
   "id": "adbc06c2",
   "metadata": {},
   "outputs": [
    {
     "name": "stdout",
     "output_type": "stream",
     "text": [
      "deleted list: [2, 5, 3, 1]\n"
     ]
    }
   ],
   "source": [
    "mylist = [2,5,6,3,1]\n",
    "del mylist[2]\n",
    "print(\"deleted list:\", mylist)"
   ]
  },
  {
   "cell_type": "markdown",
   "id": "6fda5133",
   "metadata": {},
   "source": [
    "Convert a string to a list of characters and vice-versa."
   ]
  },
  {
   "cell_type": "code",
   "execution_count": 46,
   "id": "7c9fe1dc",
   "metadata": {},
   "outputs": [
    {
     "name": "stdout",
     "output_type": "stream",
     "text": [
      "['h', 'e', 'l', 'l', 'o']\n"
     ]
    }
   ],
   "source": [
    "string = \"hello\"\n",
    "print(list(string))"
   ]
  },
  {
   "cell_type": "code",
   "execution_count": 1,
   "id": "617e14c5",
   "metadata": {},
   "outputs": [
    {
     "ename": "SyntaxError",
     "evalue": "invalid syntax (2664476093.py, line 1)",
     "output_type": "error",
     "traceback": [
      "\u001b[1;36m  Cell \u001b[1;32mIn[1], line 1\u001b[1;36m\u001b[0m\n\u001b[1;33m    Sort a list in ascending order using the sort() method.\u001b[0m\n\u001b[1;37m         ^\u001b[0m\n\u001b[1;31mSyntaxError\u001b[0m\u001b[1;31m:\u001b[0m invalid syntax\n"
     ]
    }
   ],
   "source": [
    "Sort a list in ascending order using the sort() method.\n"
   ]
  },
  {
   "cell_type": "code",
   "execution_count": 47,
   "id": "749b040c",
   "metadata": {},
   "outputs": [
    {
     "name": "stdout",
     "output_type": "stream",
     "text": [
      "[1, 2, 4, 5, 6]\n"
     ]
    }
   ],
   "source": [
    "ascn_list = [4,5,2,6,1]\n",
    "ascn_list.sort()\n",
    "print(ascn_list)\n"
   ]
  },
  {
   "cell_type": "code",
   "execution_count": null,
   "id": "8a1c1820",
   "metadata": {},
   "outputs": [],
   "source": [
    "\n",
    "Sort a list in descending order using the sort() method.\n"
   ]
  },
  {
   "cell_type": "code",
   "execution_count": 48,
   "id": "9d3b86b3",
   "metadata": {},
   "outputs": [
    {
     "name": "stdout",
     "output_type": "stream",
     "text": [
      "[6, 5, 4, 2, 1]\n"
     ]
    }
   ],
   "source": [
    "d_list = [4,5,2,6,1]\n",
    "d_list.sort(reverse=True)\n",
    "print(d_list)"
   ]
  },
  {
   "cell_type": "markdown",
   "id": "04c5419a",
   "metadata": {},
   "source": [
    "Reverse the order of a list using the reverse() method.\n"
   ]
  },
  {
   "cell_type": "code",
   "execution_count": 49,
   "id": "f0eac28f",
   "metadata": {},
   "outputs": [
    {
     "name": "stdout",
     "output_type": "stream",
     "text": [
      "[1, 8, 7, 5, 2]\n"
     ]
    }
   ],
   "source": [
    "l1 = [2,5,7,8,1]\n",
    "l1.reverse()\n",
    "print(l1)"
   ]
  },
  {
   "cell_type": "markdown",
   "id": "ea816319",
   "metadata": {},
   "source": [
    "Check if an element is present in a list using the in operator.\n"
   ]
  },
  {
   "cell_type": "code",
   "execution_count": 50,
   "id": "db2e8041",
   "metadata": {},
   "outputs": [
    {
     "name": "stdout",
     "output_type": "stream",
     "text": [
      "True\n"
     ]
    }
   ],
   "source": [
    "l11 = [2,5,7,1,8]\n",
    "ll = 5 in l11\n",
    "print(ll)\n"
   ]
  },
  {
   "cell_type": "markdown",
   "id": "f17e9e0a",
   "metadata": {},
   "source": [
    "Compare two lists to see if they are equal in both value and identity.\n"
   ]
  },
  {
   "cell_type": "code",
   "execution_count": 51,
   "id": "cc5763b1",
   "metadata": {},
   "outputs": [
    {
     "name": "stdout",
     "output_type": "stream",
     "text": [
      "Value equality: True \n",
      "Identity equality: False\n"
     ]
    }
   ],
   "source": [
    "lis1 = [1, 2, 3, 4]\n",
    "lis2 = [1, 2, 3, 4]\n",
    "val_equal = lis1 == lis2\n",
    "id_equal = lis1 is lis2\n",
    "print(\"Value equality:\", val_equal,\"\\nIdentity equality:\", id_equal)"
   ]
  },
  {
   "cell_type": "markdown",
   "id": "19d815f3",
   "metadata": {},
   "source": [
    "Create a shallow copy of a list and modify one of the lists to observe the effects on the other.\n"
   ]
  },
  {
   "cell_type": "code",
   "execution_count": 2,
   "id": "92979606",
   "metadata": {},
   "outputs": [
    {
     "name": "stdout",
     "output_type": "stream",
     "text": [
      "Original list: [1, 2, 3, 4, 10]\n",
      "Copied list: [1, 2, 3, 4]\n"
     ]
    }
   ],
   "source": [
    "import copy\n",
    "org_list = [1, 2, 3, 4]\n",
    "copy_list = copy.copy(org_list)\n",
    "org_list.append(10)\n",
    "print(\"Original list:\", org_list)\n",
    "print(\"Copied list:\", copy_list)\n",
    "\n"
   ]
  },
  {
   "cell_type": "markdown",
   "id": "6c8f1702",
   "metadata": {},
   "source": [
    "Create a deep copy of a nested list and modify one of the lists to observe the effects on the other."
   ]
  },
  {
   "cell_type": "code",
   "execution_count": 53,
   "id": "87a8af6d",
   "metadata": {},
   "outputs": [
    {
     "name": "stdout",
     "output_type": "stream",
     "text": [
      "Original nested list: [[1, 2, 3, 10], [4, 5, 6], [7, 8, 9]]\n",
      "Copied nested list: [[1, 2, 3], [4, 5, 6], [7, 8, 9]]\n"
     ]
    }
   ],
   "source": [
    "import copy\n",
    "orgg_nlist = [[1, 2, 3], [4, 5, 6], [7, 8, 9]]\n",
    "copied_nlist = copy.deepcopy(orgg_nlist)\n",
    "orgg_nlist[0].append(10)\n",
    "\n",
    "print(\"Original nested list:\", orgg_nlist)\n",
    "print(\"Copied nested list:\", copied_nlist)\n"
   ]
  },
  {
   "cell_type": "markdown",
   "id": "c52154a0",
   "metadata": {},
   "source": [
    "Pickle and Unpickle a list and display its content."
   ]
  },
  {
   "cell_type": "code",
   "execution_count": 56,
   "id": "2c97aff5",
   "metadata": {},
   "outputs": [
    {
     "name": "stdout",
     "output_type": "stream",
     "text": [
      "List pickled successfully\n"
     ]
    }
   ],
   "source": [
    "import pickle\n",
    "\n",
    "my_list = [1, 2, 3, 4, 5] #pickle\n",
    "\n",
    "with open('my_list.pkl', 'wb') as file:\n",
    "    pickle.dump(my_list, file)\n",
    "\n",
    "print(\"List pickled successfully\")\n"
   ]
  },
  {
   "cell_type": "code",
   "execution_count": 57,
   "id": "9415e114",
   "metadata": {},
   "outputs": [
    {
     "name": "stdout",
     "output_type": "stream",
     "text": [
      "Content of the unpickled list: [1, 2, 3, 4, 5]\n"
     ]
    }
   ],
   "source": [
    "import pickle\n",
    "\n",
    "#unpickle\n",
    "with open('my_list.pkl', 'rb') as file:\n",
    "    unpickled_list = pickle.load(file)\n",
    "\n",
    "print(\"Content of the unpickled list:\", unpickled_list)\n"
   ]
  }
 ],
 "metadata": {
  "kernelspec": {
   "display_name": "Python 3 (ipykernel)",
   "language": "python",
   "name": "python3"
  },
  "language_info": {
   "codemirror_mode": {
    "name": "ipython",
    "version": 3
   },
   "file_extension": ".py",
   "mimetype": "text/x-python",
   "name": "python",
   "nbconvert_exporter": "python",
   "pygments_lexer": "ipython3",
   "version": "3.11.9"
  }
 },
 "nbformat": 4,
 "nbformat_minor": 5
}
