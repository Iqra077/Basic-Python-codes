{
 "cells": [
  {
   "cell_type": "markdown",
   "id": "779a9769",
   "metadata": {},
   "source": [
    "### Assignment-07 (Module_in_Python)\n",
    "- Change the notebook name with your name and Roll Number.\n",
    "- Try this as your own, no chatgpt (it's for your learning)\n",
    "- after completing the assignment, submit this book on google class room."
   ]
  },
  {
   "cell_type": "markdown",
   "id": "46e7a5c0",
   "metadata": {},
   "source": [
    "Explain the difference between import module and from module import *. Provide an example for each.\n"
   ]
  },
  {
   "cell_type": "code",
   "execution_count": 1,
   "id": "3e218580",
   "metadata": {},
   "outputs": [
    {
     "name": "stdout",
     "output_type": "stream",
     "text": [
      "5.0\n",
      "5.0\n"
     ]
    },
    {
     "data": {
      "text/plain": [
       "' import module imports the entire module, and you access its contents with the module name prefix. from module import * imports all contents of the module directly into the current namespace, allowing you to use them without the module name prefix.'"
      ]
     },
     "execution_count": 1,
     "metadata": {},
     "output_type": "execute_result"
    }
   ],
   "source": [
    "# it will import the entire math module\n",
    "import math\n",
    "print(math.sqrt(25))  \n",
    "\n",
    "\n",
    "# it will import all functions, classes, and variables from the math module\n",
    "from math import *\n",
    "print(sqrt(25))  \n",
    "\n",
    "''' import module imports the entire module, and you access its contents with the module name prefix. from module import * imports all contents of the module directly into the current namespace, allowing you to use them without the module name prefix.'''"
   ]
  },
  {
   "cell_type": "markdown",
   "id": "935bbfe7",
   "metadata": {},
   "source": [
    "What is an alias, and how can it be used while importing a module? Provide an example.\n"
   ]
  },
  {
   "cell_type": "code",
   "execution_count": 2,
   "id": "944a369c",
   "metadata": {},
   "outputs": [
    {
     "name": "stdout",
     "output_type": "stream",
     "text": [
      "5.0\n"
     ]
    },
    {
     "data": {
      "text/plain": [
       "'Alias is an alternate name given to an imported module or specific items (functions, classes, variables) from a module. It allows you to refer to the module or its items using a shorter or more convenient name.'"
      ]
     },
     "execution_count": 2,
     "metadata": {},
     "output_type": "execute_result"
    }
   ],
   "source": [
    "import math as m\n",
    "print(m.sqrt(25))  \n",
    "\n",
    "'''Alias is an alternate name given to an imported module or specific items (functions, classes, variables) from a module. It allows you to refer to the module or its items using a shorter or more convenient name.'''\n"
   ]
  },
  {
   "cell_type": "markdown",
   "id": "1e1d37c8",
   "metadata": {},
   "source": [
    "Demonstrate the use of the importlib module to import a module dynamically."
   ]
  },
  {
   "cell_type": "code",
   "execution_count": 3,
   "id": "cd334b12",
   "metadata": {},
   "outputs": [
    {
     "name": "stdout",
     "output_type": "stream",
     "text": [
      "5.0\n"
     ]
    }
   ],
   "source": [
    "import importlib\n",
    "\n",
    "module_name = \"math\"\n",
    "math_module = importlib.import_module(module_name)\n",
    "print(math_module.sqrt(25))\n"
   ]
  },
  {
   "cell_type": "markdown",
   "id": "520b6194",
   "metadata": {},
   "source": [
    "Implement a function that takes an angle in degrees and converts it to radians using the math module."
   ]
  },
  {
   "cell_type": "code",
   "execution_count": 5,
   "id": "944626ba",
   "metadata": {},
   "outputs": [
    {
     "name": "stdout",
     "output_type": "stream",
     "text": [
      "45 degrees is equal to 0.78540 radians.\n"
     ]
    }
   ],
   "source": [
    "import math\n",
    "\n",
    "def degrees_to_radians(degrees):\n",
    "    radians = math.radians(degrees)\n",
    "    return radians\n",
    "\n",
    "\n",
    "angle_in_degrees = 45\n",
    "angle_in_radians = degrees_to_radians(angle_in_degrees)\n",
    "print(f\"{angle_in_degrees} degrees is equal to {angle_in_radians:.5f} radians.\")\n"
   ]
  },
  {
   "cell_type": "markdown",
   "id": "b81395fe",
   "metadata": {},
   "source": [
    "Create a program that simulates the rolling of a six-sided die using the random module."
   ]
  },
  {
   "cell_type": "code",
   "execution_count": 8,
   "id": "f5698b8a",
   "metadata": {},
   "outputs": [
    {
     "name": "stdout",
     "output_type": "stream",
     "text": [
      "Rolling the die 5 times:\n",
      "Roll 1 : 2\n",
      "Roll 2 : 2\n",
      "Roll 3 : 2\n",
      "Roll 4 : 6\n",
      "Roll 5 : 2\n"
     ]
    }
   ],
   "source": [
    "import random\n",
    "\n",
    "def roll_die():\n",
    "    return random.randint(1, 6)\n",
    "num_rolls = 5\n",
    "print(\"Rolling the die\", num_rolls, \"times:\")\n",
    "for i in range(num_rolls):\n",
    "    result = roll_die()\n",
    "    print(\"Roll\", i+1, \":\", result)\n"
   ]
  },
  {
   "cell_type": "markdown",
   "id": "aefd02a7",
   "metadata": {},
   "source": [
    "Implement a timer function that measures the execution time of a piece of code using the time module."
   ]
  },
  {
   "cell_type": "code",
   "execution_count": 10,
   "id": "b779c39c",
   "metadata": {},
   "outputs": [
    {
     "name": "stdout",
     "output_type": "stream",
     "text": [
      "Execution time: 2.00118 seconds\n"
     ]
    }
   ],
   "source": [
    "import time\n",
    "\n",
    "def timer(func):\n",
    "    def wrapper(*args, **kwargs):\n",
    "        start_time = time.time()\n",
    "        result = func(*args, **kwargs)\n",
    "        end_time = time.time()\n",
    "        execution_time = end_time - start_time\n",
    "        print(f\"Execution time: {execution_time:.5f} seconds\")\n",
    "        return result\n",
    "    return wrapper\n",
    "\n",
    "@timer\n",
    "def example_function():\n",
    "    time.sleep(2)\n",
    "example_function()\n"
   ]
  },
  {
   "cell_type": "markdown",
   "id": "6d6cdae3",
   "metadata": {},
   "source": [
    "Write a function that calculates the difference in days between two given dates using the datetime module."
   ]
  },
  {
   "cell_type": "code",
   "execution_count": 13,
   "id": "65c3ce92",
   "metadata": {},
   "outputs": [
    {
     "name": "stdout",
     "output_type": "stream",
     "text": [
      "Difference in days: 35\n"
     ]
    }
   ],
   "source": [
    "from datetime import datetime\n",
    "\n",
    "def diff_in_days(date1, date2):\n",
    "    datetime1 = datetime.strptime(date1, \"%Y-%m-%d\")\n",
    "    datetime2 = datetime.strptime(date2, \"%Y-%m-%d\")\n",
    "    difference = abs((datetime2 - datetime1).days)\n",
    "    return difference\n",
    "\n",
    "date1 = \"2023-04-10\"\n",
    "date2 = \"2023-05-15\"\n",
    "print(\"Difference in days:\", diff_in_days(date1, date2))\n"
   ]
  },
  {
   "cell_type": "markdown",
   "id": "729111d8",
   "metadata": {},
   "source": [
    "Implement a program that checks if a given year is a leap year using the calendar module."
   ]
  },
  {
   "cell_type": "code",
   "execution_count": 14,
   "id": "067716aa",
   "metadata": {},
   "outputs": [
    {
     "name": "stdout",
     "output_type": "stream",
     "text": [
      "2024 is a leap year.\n"
     ]
    }
   ],
   "source": [
    "import calendar\n",
    "\n",
    "def is_leap_year(year):\n",
    "    return calendar.isleap(year)\n",
    "\n",
    "year = 2024\n",
    "if is_leap_year(year):\n",
    "    print(f\"{year} is a leap year.\")\n",
    "else:\n",
    "    print(f\"{year} is not a leap year.\")\n"
   ]
  },
  {
   "cell_type": "markdown",
   "id": "8c4f73f2",
   "metadata": {},
   "source": [
    "Create a program that checks if a specific file exists in a given directory using the os module."
   ]
  },
  {
   "cell_type": "code",
   "execution_count": 15,
   "id": "f62123d1",
   "metadata": {},
   "outputs": [
    {
     "name": "stdout",
     "output_type": "stream",
     "text": [
      "The file 'example.txt' does not exist in the directory '/path/to/directory'.\n"
     ]
    }
   ],
   "source": [
    "import os\n",
    "\n",
    "def file_exists(directory, filename):\n",
    "    file_path = os.path.join(directory, filename)\n",
    "\n",
    "    if os.path.exists(file_path):\n",
    "        return True\n",
    "    else:\n",
    "        return False\n",
    "\n",
    "directory = \"/path/to/directory\"\n",
    "filename = \"example.txt\"\n",
    "\n",
    "if file_exists(directory, filename):\n",
    "    print(f\"The file '{filename}' exists in the directory '{directory}'.\")\n",
    "else:\n",
    "    print(f\"The file '{filename}' does not exist in the directory '{directory}'.\")\n",
    "\n"
   ]
  },
  {
   "cell_type": "markdown",
   "id": "c1b34e47",
   "metadata": {},
   "source": [
    "Write a program that uses threading to perform parallel execution of three tasks."
   ]
  },
  {
   "cell_type": "code",
   "execution_count": 18,
   "id": "954bcf1d",
   "metadata": {},
   "outputs": [
    {
     "name": "stdout",
     "output_type": "stream",
     "text": [
      "Task 1 started\n",
      "Task 2 started\n",
      "Task 3 started\n",
      "Task 2 completed\n",
      "Task 1 completed\n",
      "Task 3 completed\n",
      "All tasks have completed\n"
     ]
    }
   ],
   "source": [
    "import threading\n",
    "import time\n",
    "\n",
    "def task1():\n",
    "    print(\"Task 1 started\")\n",
    "    time.sleep(3) \n",
    "    print(\"Task 1 completed\")\n",
    "\n",
    "def task2():\n",
    "    print(\"Task 2 started\")\n",
    "    time.sleep(2)  \n",
    "    print(\"Task 2 completed\")\n",
    "\n",
    "def task3():\n",
    "    print(\"Task 3 started\")\n",
    "    time.sleep(4)  \n",
    "    print(\"Task 3 completed\")\n",
    "\n",
    "thread1 = threading.Thread(target=task1)\n",
    "thread2 = threading.Thread(target=task2)\n",
    "thread3 = threading.Thread(target=task3)\n",
    "\n",
    "thread1.start()\n",
    "thread2.start()\n",
    "thread3.start()\n",
    "\n",
    "thread1.join()\n",
    "thread2.join()\n",
    "thread3.join()\n",
    "\n",
    "print(\"All tasks have completed\")\n",
    "\n"
   ]
  },
  {
   "cell_type": "markdown",
   "id": "0fdd3e7c",
   "metadata": {},
   "source": [
    "Implement a program that downloads an image from a URL using the urllib module."
   ]
  },
  {
   "cell_type": "code",
   "execution_count": null,
   "id": "950950d9",
   "metadata": {},
   "outputs": [],
   "source": [
    "import urllib.request\n",
    "\n",
    "def download_image(url, filename):\n",
    "    with urllib.request.urlopen(url) as response:\n",
    "        image_data = response.read()\n",
    "    \n",
    "    with open(filename, \"wb\") as file:\n",
    "        file.write(image_data)\n",
    "    print(f\"Image downloaded successfully as '{filename}'\")\n",
    "\n",
    "url = \"https://example.com/image.jpg\"\n",
    "filename = \"downloaded_image.jpg\"\n",
    "download_image(url, filename)\n"
   ]
  }
 ],
 "metadata": {
  "kernelspec": {
   "display_name": "Python 3 (ipykernel)",
   "language": "python",
   "name": "python3"
  },
  "language_info": {
   "codemirror_mode": {
    "name": "ipython",
    "version": 3
   },
   "file_extension": ".py",
   "mimetype": "text/x-python",
   "name": "python",
   "nbconvert_exporter": "python",
   "pygments_lexer": "ipython3",
   "version": "3.11.9"
  }
 },
 "nbformat": 4,
 "nbformat_minor": 5
}
